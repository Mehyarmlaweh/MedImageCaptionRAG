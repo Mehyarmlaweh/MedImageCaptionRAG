{
 "cells": [
  {
   "cell_type": "code",
   "execution_count": 1,
   "metadata": {},
   "outputs": [],
   "source": [
    "import os\n",
    "import sys\n",
    "import io\n",
    "import json\n",
    "import boto3\n",
    "import numpy as np\n",
    "import pandas as pd\n",
    "from PIL import Image\n",
    "from dotenv import load_dotenv\n",
    "import base64\n",
    "import requests\n"
   ]
  },
  {
   "cell_type": "code",
   "execution_count": 7,
   "metadata": {},
   "outputs": [],
   "source": [
    "load_dotenv()\n",
    "sys.path.append(\"../\")"
   ]
  },
  {
   "cell_type": "code",
   "execution_count": 8,
   "metadata": {},
   "outputs": [],
   "source": [
    "INFERENCE_PROFILE_ID = os.getenv(\"INFERENCE_PROFILE_ID\")\n"
   ]
  },
  {
   "cell_type": "code",
   "execution_count": null,
   "metadata": {},
   "outputs": [],
   "source": [
    "# AWS S3 setup\n",
    "s3 = boto3.client('s3',region_name='eu-west-3')\n",
    "bucket_name = #bucketname\n",
    "image_folder = 'Data/train/images/' \n",
    "csv_path = 'Data/train/train_images.csv'  \n"
   ]
  },
  {
   "cell_type": "code",
   "execution_count": 4,
   "metadata": {},
   "outputs": [],
   "source": [
    "def load_csv_from_s3(bucket_name, csv_key):\n",
    "    response = s3.get_object(Bucket=bucket_name, Key=csv_key)\n",
    "    return pd.read_csv(io.BytesIO(response['Body'].read()))"
   ]
  },
  {
   "cell_type": "code",
   "execution_count": 5,
   "metadata": {},
   "outputs": [],
   "source": [
    "df = load_csv_from_s3(bucket_name, csv_path)\n",
    "image_paths = df['imagePath'].tolist()\n",
    "captions = df['caption'].tolist()"
   ]
  },
  {
   "cell_type": "code",
   "execution_count": 3,
   "metadata": {},
   "outputs": [],
   "source": [
    "Bedrock = boto3.client(\n",
    "    'bedrock-runtime',\n",
    "    region_name='eu-west-3',  \n",
    ")"
   ]
  },
  {
   "cell_type": "code",
   "execution_count": 4,
   "metadata": {},
   "outputs": [],
   "source": [
    "def encode_image_to_base64(image_path):\n",
    "    with open(image_path, \"rb\") as image_file:\n",
    "        return base64.b64encode(image_file.read()).decode(\"utf-8\")\n",
    "\n",
    "image_base64 = encode_image_to_base64(\"C:/Users/14384/STAGE/Data/train/images/image_10007.jpg\")"
   ]
  },
  {
   "cell_type": "code",
   "execution_count": 5,
   "metadata": {},
   "outputs": [],
   "source": [
    "payload = {\n",
    "    \"messages\": [\n",
    "        {\n",
    "            \"role\": \"user\",\n",
    "            \"content\": [\n",
    "                {\n",
    "                    \"type\": \"image\",\n",
    "                    \"source\": {\n",
    "                        \"type\": \"base64\",\n",
    "                        \"media_type\": \"image/jpeg\",\n",
    "                        \"data\": image_base64\n",
    "                    }\n",
    "                },\n",
    "                {\n",
    "                    \"type\": \"text\",\n",
    "                    \"text\": \"Descrive this medical image\"\n",
    "                }\n",
    "            ]\n",
    "        }\n",
    "    ],\n",
    "    \"max_tokens\": 1000,\n",
    "    \"anthropic_version\": \"bedrock-2023-05-31\"\n",
    "}\n"
   ]
  },
  {
   "cell_type": "code",
   "execution_count": 9,
   "metadata": {},
   "outputs": [],
   "source": [
    "response = Bedrock.invoke_model(\n",
    "    modelId=INFERENCE_PROFILE_ID,\n",
    "    contentType=\"application/json\",\n",
    "    body=json.dumps(payload)\n",
    ")\n"
   ]
  },
  {
   "cell_type": "code",
   "execution_count": 10,
   "metadata": {},
   "outputs": [],
   "source": [
    "output_binary = response[\"body\"].read()\n",
    "output_json = json.loads(output_binary)\n",
    "output = output_json[\"content\"][0][\"text\"]\n"
   ]
  },
  {
   "cell_type": "code",
   "execution_count": 11,
   "metadata": {},
   "outputs": [
    {
     "name": "stdout",
     "output_type": "stream",
     "text": [
      "This image appears to be a CT (computed tomography) scan of the abdomen, showing a cross-sectional view of the body. The scan is in black and white, with various shades of gray indicating different tissue densities.\n",
      "\n",
      "In this image, we can see:\n",
      "\n",
      "1. The liver, which takes up a large portion of the right side of the image. It appears as a relatively uniform gray area.\n",
      "\n",
      "2. The stomach, visible on the left side, containing some darker areas which could indicate the presence of air or fluid.\n",
      "\n",
      "3. The spine, visible at the bottom center of the image, appearing as a bright white structure.\n",
      "\n",
      "4. Several other abdominal organs and structures, though without more context it's difficult to identify them all with certainty.\n",
      "\n",
      "5. There appears to be some irregularity or abnormality in the liver, as evidenced by a large, darker area within the liver tissue. This could potentially indicate a mass, cyst, or other pathology, but a medical professional would need to interpret this finding.\n",
      "\n",
      "6. The image is labeled with the letter \"a\" in the top left corner, suggesting it might be part of a series of images.\n",
      "\n",
      "This type of medical imaging is commonly used to diagnose various conditions affecting the abdominal organs, assess injuries, or monitor the progression of certain diseases.\n"
     ]
    }
   ],
   "source": [
    "print(output)\n"
   ]
  }
 ],
 "metadata": {
  "kernelspec": {
   "display_name": "genai",
   "language": "python",
   "name": "python3"
  },
  "language_info": {
   "codemirror_mode": {
    "name": "ipython",
    "version": 3
   },
   "file_extension": ".py",
   "mimetype": "text/x-python",
   "name": "python",
   "nbconvert_exporter": "python",
   "pygments_lexer": "ipython3",
   "version": "3.11.10"
  }
 },
 "nbformat": 4,
 "nbformat_minor": 2
}
